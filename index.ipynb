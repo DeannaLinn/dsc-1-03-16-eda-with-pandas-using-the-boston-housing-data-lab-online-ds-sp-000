{
 "cells": [
  {
   "cell_type": "markdown",
   "metadata": {},
   "source": [
    "# Project - EDA with Pandas Using the Boston Housing Data"
   ]
  },
  {
   "cell_type": "markdown",
   "metadata": {},
   "source": [
    "## Introduction\n",
    "\n",
    "In this section you've learned a lot about importing, cleaning up, analysing (using descriptive statistics) and visualizing data. In this more free form project you'll get a chance to practice all of these skills with the Boston Housing data set,  which contains housing values in suburbs of Boston. The Boston Housing Data is commonly used by aspiring data scientists.  "
   ]
  },
  {
   "cell_type": "markdown",
   "metadata": {},
   "source": [
    "## Objectives\n",
    "You will be able to:\n",
    "* Show mastery of the content covered in this section"
   ]
  },
  {
   "cell_type": "markdown",
   "metadata": {},
   "source": [
    "# Goals\n",
    "\n",
    "Use your data munging and visualization skills to conduct an exploratory analysis of the dataset below. At minimum, this should include:\n",
    "\n",
    "* Loading the data (which is stored in the file train.csv) DONE\n",
    "* Use built-in python functions to explore measures of centrality and dispersion for at least 3 variables DONE\n",
    "* Create *meaningful* subsets of the data using selection operations using `.loc`, `.iloc` or related operations. Explain why you used the chosen subsets and do this for 3 possible 2-way splits. State how you think the 2 measures of centrality and/or dispersion might be different for each subset of the data. Examples of potential splits: DONE\n",
    "    - Create a 2 new dataframes based on your existing data, where one contains all the properties next to the Charles river, and the other one contains properties that aren't.\n",
    "    - Create 2 new dataframes based on a certain split for crime rate.\n",
    "* Next, use histograms and scatterplots to see whether you observe differences for the subsets of the data. Make sure to use subplots so it is easy to compare the relationships."
   ]
  },
  {
   "cell_type": "markdown",
   "metadata": {},
   "source": [
    "# Variable Descriptions\n",
    "\n",
    "This data frame contains the following columns:\n",
    "\n",
    "#### crim  \n",
    "per capita crime rate by town.\n",
    "\n",
    "#### zn  \n",
    "proportion of residential land zoned for lots over 25,000 sq.ft.\n",
    "\n",
    "#### indus  \n",
    "proportion of non-retail business acres per town.\n",
    "\n",
    "#### chas  \n",
    "Charles River dummy variable (= 1 if tract bounds river; 0 otherwise).\n",
    "\n",
    "#### nox  \n",
    "nitrogen oxides concentration (parts per 10 million).\n",
    "\n",
    "#### rm  \n",
    "average number of rooms per dwelling.\n",
    "\n",
    "#### age  \n",
    "proportion of owner-occupied units built prior to 1940.\n",
    "\n",
    "#### dis  \n",
    "weighted mean of distances to five Boston employment centres.\n",
    "\n",
    "#### rad  \n",
    "index of accessibility to radial highways.\n",
    "\n",
    "#### tax  \n",
    "full-value property-tax rate per $10,000.\n",
    "\n",
    "#### ptratio  \n",
    "pupil-teacher ratio by town.\n",
    "\n",
    "#### black  \n",
    "1000(Bk - 0.63)^2 where Bk is the proportion of blacks by town.\n",
    "\n",
    "#### lstat  \n",
    "lower status of the population (percent).\n",
    "\n",
    "#### medv  \n",
    "median value of owner-occupied homes in $10000s.\n",
    "  \n",
    "  \n",
    "  \n",
    "Source\n",
    "Harrison, D. and Rubinfeld, D.L. (1978) Hedonic prices and the demand for clean air. J. Environ. Economics and Management 5, 81–102.\n",
    "\n",
    "Belsley D.A., Kuh, E. and Welsch, R.E. (1980) Regression Diagnostics. Identifying Influential Data and Sources of Collinearity. New York: Wiley."
   ]
  },
  {
   "cell_type": "markdown",
   "metadata": {},
   "source": [
    "## Summary\n",
    "\n",
    "Congratulations, you've completed your first \"freeform\" exploratory data analysis of a popular data set!"
   ]
  },
  {
   "cell_type": "code",
   "execution_count": 3,
   "metadata": {},
   "outputs": [
    {
     "name": "stderr",
     "output_type": "stream",
     "text": [
      "/opt/conda/lib/python3.6/importlib/_bootstrap.py:219: RuntimeWarning: numpy.dtype size changed, may indicate binary incompatibility. Expected 96, got 88\n",
      "  return f(*args, **kwds)\n"
     ]
    },
    {
     "data": {
      "text/html": [
       "<div>\n",
       "<style scoped>\n",
       "    .dataframe tbody tr th:only-of-type {\n",
       "        vertical-align: middle;\n",
       "    }\n",
       "\n",
       "    .dataframe tbody tr th {\n",
       "        vertical-align: top;\n",
       "    }\n",
       "\n",
       "    .dataframe thead th {\n",
       "        text-align: right;\n",
       "    }\n",
       "</style>\n",
       "<table border=\"1\" class=\"dataframe\">\n",
       "  <thead>\n",
       "    <tr style=\"text-align: right;\">\n",
       "      <th></th>\n",
       "      <th>ID</th>\n",
       "      <th>crim</th>\n",
       "      <th>zn</th>\n",
       "      <th>indus</th>\n",
       "      <th>chas</th>\n",
       "      <th>nox</th>\n",
       "      <th>rm</th>\n",
       "      <th>age</th>\n",
       "      <th>dis</th>\n",
       "      <th>rad</th>\n",
       "      <th>tax</th>\n",
       "      <th>ptratio</th>\n",
       "      <th>black</th>\n",
       "      <th>lstat</th>\n",
       "      <th>medv</th>\n",
       "    </tr>\n",
       "  </thead>\n",
       "  <tbody>\n",
       "    <tr>\n",
       "      <th>0</th>\n",
       "      <td>1</td>\n",
       "      <td>0.00632</td>\n",
       "      <td>18.0</td>\n",
       "      <td>2.31</td>\n",
       "      <td>0</td>\n",
       "      <td>0.538</td>\n",
       "      <td>6.575</td>\n",
       "      <td>65.2</td>\n",
       "      <td>4.0900</td>\n",
       "      <td>1</td>\n",
       "      <td>296</td>\n",
       "      <td>15.3</td>\n",
       "      <td>396.90</td>\n",
       "      <td>4.98</td>\n",
       "      <td>24.0</td>\n",
       "    </tr>\n",
       "    <tr>\n",
       "      <th>1</th>\n",
       "      <td>2</td>\n",
       "      <td>0.02731</td>\n",
       "      <td>0.0</td>\n",
       "      <td>7.07</td>\n",
       "      <td>0</td>\n",
       "      <td>0.469</td>\n",
       "      <td>6.421</td>\n",
       "      <td>78.9</td>\n",
       "      <td>4.9671</td>\n",
       "      <td>2</td>\n",
       "      <td>242</td>\n",
       "      <td>17.8</td>\n",
       "      <td>396.90</td>\n",
       "      <td>9.14</td>\n",
       "      <td>21.6</td>\n",
       "    </tr>\n",
       "    <tr>\n",
       "      <th>2</th>\n",
       "      <td>4</td>\n",
       "      <td>0.03237</td>\n",
       "      <td>0.0</td>\n",
       "      <td>2.18</td>\n",
       "      <td>0</td>\n",
       "      <td>0.458</td>\n",
       "      <td>6.998</td>\n",
       "      <td>45.8</td>\n",
       "      <td>6.0622</td>\n",
       "      <td>3</td>\n",
       "      <td>222</td>\n",
       "      <td>18.7</td>\n",
       "      <td>394.63</td>\n",
       "      <td>2.94</td>\n",
       "      <td>33.4</td>\n",
       "    </tr>\n",
       "    <tr>\n",
       "      <th>3</th>\n",
       "      <td>5</td>\n",
       "      <td>0.06905</td>\n",
       "      <td>0.0</td>\n",
       "      <td>2.18</td>\n",
       "      <td>0</td>\n",
       "      <td>0.458</td>\n",
       "      <td>7.147</td>\n",
       "      <td>54.2</td>\n",
       "      <td>6.0622</td>\n",
       "      <td>3</td>\n",
       "      <td>222</td>\n",
       "      <td>18.7</td>\n",
       "      <td>396.90</td>\n",
       "      <td>5.33</td>\n",
       "      <td>36.2</td>\n",
       "    </tr>\n",
       "    <tr>\n",
       "      <th>4</th>\n",
       "      <td>7</td>\n",
       "      <td>0.08829</td>\n",
       "      <td>12.5</td>\n",
       "      <td>7.87</td>\n",
       "      <td>0</td>\n",
       "      <td>0.524</td>\n",
       "      <td>6.012</td>\n",
       "      <td>66.6</td>\n",
       "      <td>5.5605</td>\n",
       "      <td>5</td>\n",
       "      <td>311</td>\n",
       "      <td>15.2</td>\n",
       "      <td>395.60</td>\n",
       "      <td>12.43</td>\n",
       "      <td>22.9</td>\n",
       "    </tr>\n",
       "  </tbody>\n",
       "</table>\n",
       "</div>"
      ],
      "text/plain": [
       "   ID     crim    zn  indus  chas    nox     rm   age     dis  rad  tax  \\\n",
       "0   1  0.00632  18.0   2.31     0  0.538  6.575  65.2  4.0900    1  296   \n",
       "1   2  0.02731   0.0   7.07     0  0.469  6.421  78.9  4.9671    2  242   \n",
       "2   4  0.03237   0.0   2.18     0  0.458  6.998  45.8  6.0622    3  222   \n",
       "3   5  0.06905   0.0   2.18     0  0.458  7.147  54.2  6.0622    3  222   \n",
       "4   7  0.08829  12.5   7.87     0  0.524  6.012  66.6  5.5605    5  311   \n",
       "\n",
       "   ptratio   black  lstat  medv  \n",
       "0     15.3  396.90   4.98  24.0  \n",
       "1     17.8  396.90   9.14  21.6  \n",
       "2     18.7  394.63   2.94  33.4  \n",
       "3     18.7  396.90   5.33  36.2  \n",
       "4     15.2  395.60  12.43  22.9  "
      ]
     },
     "execution_count": 3,
     "metadata": {},
     "output_type": "execute_result"
    }
   ],
   "source": [
    "### LOADING DATA\n",
    "\n",
    "import pandas as pd\n",
    "\n",
    "df = pd.read_csv('train.csv')\n",
    "df.head()\n"
   ]
  },
  {
   "cell_type": "code",
   "execution_count": 4,
   "metadata": {},
   "outputs": [
    {
     "name": "stdout",
     "output_type": "stream",
     "text": [
      "The average full-value property-tax rate per $10,000 is 409.28\n",
      "The average pupil to teacher ratio by town is 18.45\n",
      "The average proportion of residential land zoned for lots over 25,000 sq.ft. is 10.69\n"
     ]
    }
   ],
   "source": [
    "### Use built-in python functions to explore measures of centrality \n",
    "### and dispersion for at least 3 variables\n",
    "\n",
    "mean_tax = round(df.tax.mean(), 2)\n",
    "print ('The average full-value property-tax rate per $10,000 is', mean_tax)\n",
    "\n",
    "mean_ptratio = round(df.ptratio.mean(), 2)\n",
    "print ('The average pupil to teacher ratio by town is', mean_ptratio)\n",
    "\n",
    "mean_zn = round(df.zn.mean(), 2)\n",
    "print ('The average proportion of residential land zoned for lots over 25,000 sq.ft. is', mean_zn)"
   ]
  },
  {
   "cell_type": "code",
   "execution_count": 5,
   "metadata": {},
   "outputs": [
    {
     "name": "stdout",
     "output_type": "stream",
     "text": [
      "The crime per capita by town for houses bounded by the Charles River is 2.16\n",
      "The crime per capita by town for houses not bounded by the Charles River is 3.44\n"
     ]
    }
   ],
   "source": [
    "### Charles River vs No Charles River --- Crime Per Capita\n",
    "\n",
    "df_charles_river = df.loc[ df['chas'] == 1 ]\n",
    "df_no_charles_river = df.loc[ df['chas'] == 0 ]\n",
    "\n",
    "mean_crime_charles_river = round(df_charles_river.crim.mean(), 2)\n",
    "print ('The crime per capita by town for houses bounded by the Charles River is', mean_crime_charles_river)\n",
    "\n",
    "mean_crime_no_charles_river = round(df_no_charles_river.crim.mean(), 2)\n",
    "print ('The crime per capita by town for houses not bounded by the Charles River is', mean_crime_no_charles_river)"
   ]
  },
  {
   "cell_type": "code",
   "execution_count": 6,
   "metadata": {},
   "outputs": [
    {
     "name": "stdout",
     "output_type": "stream",
     "text": [
      "The crime per capita by town for houses with more than 7 rooms is 0.69\n",
      "The crime per capita by town for houses with less than 7 room is 3.74\n"
     ]
    }
   ],
   "source": [
    "### Houses with avg num of room less than and greater than 7 --- Crime Per Capita\n",
    "\n",
    "df_num_rooms1 = df.loc[ df['rm'] >= 7 ]\n",
    "df_num_rooms2 = df.loc[ df['rm'] < 7 ]\n",
    "\n",
    "\n",
    "mean_crime_num_rooms1 = round(df_num_rooms1.crim.mean(), 2)\n",
    "print ('The crime per capita by town for houses with more than 7 rooms is', mean_crime_num_rooms1)\n",
    "\n",
    "mean_crime_num_rooms2 = round(df_num_rooms2.crim.mean(), 2)\n",
    "print ('The crime per capita by town for houses with less than 7 room is', mean_crime_num_rooms2)"
   ]
  },
  {
   "cell_type": "code",
   "execution_count": 7,
   "metadata": {},
   "outputs": [
    {
     "name": "stdout",
     "output_type": "stream",
     "text": [
      "The crime per capita for houses with a median value of greater than or equal to $200,000 is 1.06\n",
      "The crime per capita for houses with a median value of less than $200,000 is 3.36\n"
     ]
    }
   ],
   "source": [
    "### \n",
    "\n",
    "df_mdv1 = df.loc[ df['medv'] >= 20 ]\n",
    "df_mdv2 = df.loc[ df['chas'] < 20 ]\n",
    "\n",
    "mean_crime_mdv1 = round(df_mdv1.crim.mean(), 2)\n",
    "print ('The crime per capita for houses with a median value of greater than or equal to $200,000 is', mean_crime_mdv1)\n",
    "\n",
    "mean_crime_mdv2 = round(df_mdv2.crim.mean(), 2)\n",
    "print ('The crime per capita for houses with a median value of less than $200,000 is', mean_crime_mdv2)"
   ]
  },
  {
   "cell_type": "code",
   "execution_count": 8,
   "metadata": {},
   "outputs": [],
   "source": [
    "# Import matplotlib\n",
    "import matplotlib.pyplot as plt\n",
    "\n",
    "# Set plot space as inline for inline plots and qt for external plots\n",
    "%matplotlib inline"
   ]
  },
  {
   "cell_type": "code",
   "execution_count": 11,
   "metadata": {},
   "outputs": [
    {
     "data": {
      "image/png": "[encoded data removed]",
      "text/plain": [
       "<Figure size 432x288 with 1 Axes>"
      ]
     },
     "metadata": {
      "needs_background": "light"
     },
     "output_type": "display_data"
    }
   ],
   "source": [
    "#Plot the distogram with hist() function\n",
    "plt.hist(df_mdv1, bins = 5)\n",
    "\n",
    "plt.xlabel('Normal random distribution')\n",
    "plt.ylabel('Frequency of Values')\n",
    "plt.title('Histograms in matplotlib')\n",
    "plt.show()"
   ]
  },
  {
   "cell_type": "code",
   "execution_count": null,
   "metadata": {},
   "outputs": [],
   "source": []
  }
 ],
 "metadata": {
  "kernelspec": {
   "display_name": "Python 3",
   "language": "python",
   "name": "python3"
  },
  "language_info": {
   "codemirror_mode": {
    "name": "ipython",
    "version": 3
   },
   "file_extension": ".py",
   "mimetype": "text/x-python",
   "name": "python",
   "nbconvert_exporter": "python",
   "pygments_lexer": "ipython3",
   "version": "3.6.4"
  }
 },
 "nbformat": 4,
 "nbformat_minor": 2
}
